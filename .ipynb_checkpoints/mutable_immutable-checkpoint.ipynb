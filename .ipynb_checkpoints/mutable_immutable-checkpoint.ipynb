{
 "cells": [
  {
   "cell_type": "code",
   "execution_count": 1,
   "id": "ca4ee2db-ee80-4701-be45-9e6a14238a9f",
   "metadata": {},
   "outputs": [],
   "source": [
    "#mutable"
   ]
  },
  {
   "cell_type": "code",
   "execution_count": 2,
   "id": "710a6bb9-d87a-467e-bc1d-ec5184417044",
   "metadata": {},
   "outputs": [
    {
     "name": "stdout",
     "output_type": "stream",
     "text": [
      "[1, 2, 3, 4]\n"
     ]
    }
   ],
   "source": [
    "#list\n",
    "my_list = [1, 2, 3]\n",
    "my_list.append(4)  \n",
    "print(my_list)\n"
   ]
  },
  {
   "cell_type": "code",
   "execution_count": 3,
   "id": "b9f2cdb4-a8b1-41a2-83c9-34098e3fc6e5",
   "metadata": {},
   "outputs": [
    {
     "name": "stdout",
     "output_type": "stream",
     "text": [
      "{'a': 1, 'b': 2, 'c': 3}\n"
     ]
    }
   ],
   "source": [
    "#Dictionary\n",
    "my_dict = {'a': 1, 'b': 2}\n",
    "my_dict['c'] = 3  # Modifies the dictionary\n",
    "print(my_dict)    # Output: {'a': 1, 'b': 2, 'c': 3}\n"
   ]
  },
  {
   "cell_type": "code",
   "execution_count": 4,
   "id": "5cc100c6-b2f8-46ee-bbdd-ce1f5e13fa6c",
   "metadata": {},
   "outputs": [
    {
     "name": "stdout",
     "output_type": "stream",
     "text": [
      "{1, 2, 3, 4}\n"
     ]
    }
   ],
   "source": [
    "#Set\n",
    "my_set = {1, 2, 3}\n",
    "my_set.add(4)  # Modifies the set\n",
    "print(my_set)  # Output: {1, 2, 3, 4}\n"
   ]
  },
  {
   "cell_type": "code",
   "execution_count": 5,
   "id": "c1513cb9-6074-490d-b55c-0b63ce34e5c4",
   "metadata": {},
   "outputs": [],
   "source": [
    "#immutable"
   ]
  },
  {
   "cell_type": "code",
   "execution_count": 6,
   "id": "e0528c66-016c-4e91-980a-dc63b3166873",
   "metadata": {},
   "outputs": [
    {
     "name": "stdout",
     "output_type": "stream",
     "text": [
      "5\n"
     ]
    }
   ],
   "source": [
    "#interger\n",
    "my_int = 5\n",
    "# my_int = 6 is a reassignment, not a modification\n",
    "print(my_int)  # Output: 5\n"
   ]
  },
  {
   "cell_type": "code",
   "execution_count": 7,
   "id": "cd688108-a36c-41d3-9abd-6aa85631e620",
   "metadata": {},
   "outputs": [
    {
     "name": "stdout",
     "output_type": "stream",
     "text": [
      "hello\n",
      "jello\n"
     ]
    }
   ],
   "source": [
    "#string\n",
    "my_string = \"hello\"\n",
    "new_string = my_string.replace(\"h\", \"j\")  \n",
    "print(my_string) \n",
    "print(new_string) \n"
   ]
  },
  {
   "cell_type": "code",
   "execution_count": 8,
   "id": "05eed576-0a48-41fb-a3ba-03c6464d2406",
   "metadata": {},
   "outputs": [
    {
     "name": "stdout",
     "output_type": "stream",
     "text": [
      "(1, 2, 3)\n",
      "(1, 2, 3, 4)\n"
     ]
    }
   ],
   "source": [
    "#tuple\n",
    "my_tuple = (1, 2, 3)\n",
    "new_tuple = my_tuple + (4,)  \n",
    "print(my_tuple) \n",
    "print(new_tuple) \n"
   ]
  },
  {
   "cell_type": "code",
   "execution_count": null,
   "id": "4a79996d-ffd7-4537-b104-c54df66bf4aa",
   "metadata": {},
   "outputs": [],
   "source": []
  }
 ],
 "metadata": {
  "kernelspec": {
   "display_name": "Python 3 (ipykernel)",
   "language": "python",
   "name": "python3"
  },
  "language_info": {
   "codemirror_mode": {
    "name": "ipython",
    "version": 3
   },
   "file_extension": ".py",
   "mimetype": "text/x-python",
   "name": "python",
   "nbconvert_exporter": "python",
   "pygments_lexer": "ipython3",
   "version": "3.10.8"
  }
 },
 "nbformat": 4,
 "nbformat_minor": 5
}
