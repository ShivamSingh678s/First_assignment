{
 "cells": [
  {
   "cell_type": "code",
   "execution_count": 1,
   "id": "beb66974-9343-401d-9337-1646ec8d31c2",
   "metadata": {},
   "outputs": [
    {
     "name": "stdout",
     "output_type": "stream",
     "text": [
      "3\n",
      "123\n"
     ]
    }
   ],
   "source": [
    "#Converting to Integer\n",
    "# Float to integer\n",
    "x = 3.8\n",
    "y = int(x)\n",
    "print(y)  \n",
    "\n",
    "# String to integer\n",
    "s = \"123\"\n",
    "z = int(s)\n",
    "print(z)  \n"
   ]
  },
  {
   "cell_type": "code",
   "execution_count": 2,
   "id": "07607801-bfc9-40ff-9281-8803cbb22fc5",
   "metadata": {},
   "outputs": [
    {
     "name": "stdout",
     "output_type": "stream",
     "text": [
      "10\n",
      "3.14\n"
     ]
    }
   ],
   "source": [
    "#Converting to String\n",
    "# Integer to string\n",
    "a = 10\n",
    "s = str(a)\n",
    "print(s) \n",
    "\n",
    "# Float to string\n",
    "b = 3.14\n",
    "t = str(b)\n",
    "print(t)  \n"
   ]
  },
  {
   "cell_type": "code",
   "execution_count": 3,
   "id": "7386434c-9996-4f67-bb82-d75535f0c817",
   "metadata": {},
   "outputs": [
    {
     "name": "stdout",
     "output_type": "stream",
     "text": [
      "10.0\n",
      "3.14\n"
     ]
    }
   ],
   "source": [
    "#Converting to Float\n",
    "# Integer to float\n",
    "a = 10\n",
    "b = float(a)\n",
    "print(b)  \n",
    "\n",
    "# String to float\n",
    "s = \"3.14\"\n",
    "c = float(s)\n",
    "print(c)  \n"
   ]
  },
  {
   "cell_type": "code",
   "execution_count": null,
   "id": "88ae888f-9420-455e-9dfe-d790d7b144b1",
   "metadata": {},
   "outputs": [],
   "source": []
  }
 ],
 "metadata": {
  "kernelspec": {
   "display_name": "Python 3 (ipykernel)",
   "language": "python",
   "name": "python3"
  },
  "language_info": {
   "codemirror_mode": {
    "name": "ipython",
    "version": 3
   },
   "file_extension": ".py",
   "mimetype": "text/x-python",
   "name": "python",
   "nbconvert_exporter": "python",
   "pygments_lexer": "ipython3",
   "version": "3.10.8"
  }
 },
 "nbformat": 4,
 "nbformat_minor": 5
}
